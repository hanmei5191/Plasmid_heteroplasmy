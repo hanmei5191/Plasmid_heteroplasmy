{
 "cells": [
  {
   "cell_type": "code",
   "execution_count": 1,
   "metadata": {
    "collapsed": true
   },
   "outputs": [],
   "source": [
    "%load_ext rpy2.ipython "
   ]
  },
  {
   "cell_type": "code",
   "execution_count": 2,
   "metadata": {
    "collapsed": true
   },
   "outputs": [],
   "source": [
    "%%R \n",
    "library(ggplot2)\n",
    "data1<-read.delim(\"S1_data1.tab\",header=TRUE)\n",
    "data2<-read.delim(\"S1_data2.tab\",header=TRUE)\n",
    "data6<-read.delim(\"S1_data6.tab\",header=TRUE)\n",
    "data7<-read.delim(\"S1_data7.tab\",header=TRUE)\n",
    "theme=theme_classic()+ \n",
    "      theme(plot.title = element_text(size = 28,hjust=0.5,face=\"bold\"), \n",
    "          axis.title.y = element_text(size = 24),\n",
    "          axis.title.x = element_text(size = 24),\n",
    "          axis.text.x = element_text(size = 20), \n",
    "          axis.text.y = element_text(size = 20)) \n",
    "scaleK <- function(x) sprintf(\"%.fk\", x/1000)"
   ]
  },
  {
   "cell_type": "markdown",
   "metadata": {},
   "source": [
    "### Codes below are used to generate Figure 1. Hour is used as the time unit on the x-axis, instead of minutes. "
   ]
  },
  {
   "cell_type": "code",
   "execution_count": 3,
   "metadata": {},
   "outputs": [
    {
     "name": "stderr",
     "output_type": "stream",
     "text": [
      "/Users/han/anaconda2/envs/ml/lib/python2.7/site-packages/rpy2/rinterface/__init__.py:186: RRuntimeWarning: Scale for 'y' is already present. Adding another scale for 'y', which will\n",
      "replace the existing scale.\n",
      "\n",
      "  warnings.warn(x, RRuntimeWarning)\n"
     ]
    }
   ],
   "source": [
    "%%R \n",
    "p1<-ggplot(data1,aes(hour,od))\n",
    "R1=p1+geom_line(size=1,col=\"red\") + \n",
    "    labs(x=\"Time (hour)\", y=bquote(paste(\"OD\"[\"600\"]*\" Value\")), title=\"R1\") +\n",
    "    ylim(-0.05,1)+\n",
    "    scale_x_continuous(limits=c(0, 65),breaks=seq(0,65,12))+ \n",
    "    scale_y_continuous(limits=c(-0.1, 0.9),breaks=seq(0,1,0.2))+ \n",
    "    labs(x=NULL)+\n",
    "    theme\n",
    "\n",
    "p2<-ggplot(data2,aes(hour,od))\n",
    "R2=p2+geom_line(size=1,col=\"red\") + \n",
    "    labs(x=\"Time (hour)\", y=bquote(paste(\"OD\"[\"600\"]*\" Value\")), title=\"R2\") +\n",
    "    ylim(-0.05,1)+\n",
    "    scale_x_continuous(limits=c(0, 65),breaks=seq(0,65,12))+ \n",
    "    scale_y_continuous(limits=c(-0.1, 0.9),breaks=seq(0,1,0.2))+ \n",
    "    theme\n",
    "\n",
    "p6<-ggplot(data6,aes(hour,od))\n",
    "R6=p6+geom_line(size=1,col=\"red\") + \n",
    "    labs(x=\"Time (hour)\", y=bquote(paste(\"OD\"[\"600\"]*\" Value\")), title=\"R6\") +\n",
    "    ylim(-0.05,1)+\n",
    "    scale_x_continuous(limits=c(0, 318),breaks=seq(0,318,24))+ \n",
    "    scale_y_continuous(limits=c(-0.1, 0.9),breaks=seq(0,1,0.2))+ \n",
    "    labs(x=NULL)+\n",
    "    labs(y=NULL)+    \n",
    "    theme\n",
    "\n",
    "p7<-ggplot(data7,aes(hour,od))\n",
    "R7=p7+geom_line(size=1,col=\"red\") + \n",
    "    labs(x=\"Time (hour)\", y=bquote(paste(\"OD\"[\"600\"]*\" Value\")), title=\"R7\") +\n",
    "    ylim(-0.05,1)+\n",
    "    scale_x_continuous(limits=c(0, 318),breaks=seq(0,318,24))+ \n",
    "    scale_y_continuous(limits=c(-0.1, 0.9),breaks=seq(0,1,0.2))+ \n",
    "    labs(y=NULL)+\n",
    "    theme"
   ]
  },
  {
   "cell_type": "code",
   "execution_count": 4,
   "metadata": {},
   "outputs": [
    {
     "data": {
      "text/plain": [
       "quartz_off_screen \n",
       "                2 \n"
      ]
     },
     "metadata": {},
     "output_type": "display_data"
    }
   ],
   "source": [
    "%%R \n",
    "library(grid)\n",
    "pdf(\"Figure_S1.pdf\",height=8.5, width=22)\n",
    "vp1<-viewport(width=0.2,height=0.45,x=0.1,y=0.75)\n",
    "vp2<-viewport(width=0.2,height=0.5,x=0.1,y=0.25)\n",
    "vp6<-viewport(width=0.8,height=0.45,x=0.6,y=0.75)\n",
    "vp7<-viewport(width=0.8,height=0.5,x=0.6,y=0.25)\n",
    "print(R1,vp=vp1)\n",
    "print(R2,vp=vp2)\n",
    "print(R6,vp=vp6)\n",
    "print(R7,vp=vp7)\n",
    "dev.off() "
   ]
  },
  {
   "cell_type": "code",
   "execution_count": null,
   "metadata": {
    "collapsed": true
   },
   "outputs": [],
   "source": []
  }
 ],
 "metadata": {
  "kernelspec": {
   "display_name": "Python 2",
   "language": "python",
   "name": "python2"
  },
  "language_info": {
   "codemirror_mode": {
    "name": "ipython",
    "version": 2
   },
   "file_extension": ".py",
   "mimetype": "text/x-python",
   "name": "python",
   "nbconvert_exporter": "python",
   "pygments_lexer": "ipython2",
   "version": "2.7.14"
  }
 },
 "nbformat": 4,
 "nbformat_minor": 2
}
