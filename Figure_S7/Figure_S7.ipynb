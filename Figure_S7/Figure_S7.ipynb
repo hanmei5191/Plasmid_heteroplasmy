{
 "cells": [
  {
   "cell_type": "code",
   "execution_count": 1,
   "metadata": {
    "collapsed": true
   },
   "outputs": [],
   "source": [
    "%load_ext rpy2.ipython "
   ]
  },
  {
   "cell_type": "code",
   "execution_count": 2,
   "metadata": {
    "collapsed": true,
    "scrolled": false
   },
   "outputs": [],
   "source": [
    "%%R \n",
    "for (i in 1:29){\n",
    "    load(paste(\"results.RData/results-\", i, \".RData\",sep = \"\"))\n",
    "    assign(paste(\"a\", i, sep = \"\"), results)\n",
    "}\n",
    "\n",
    "a20[[38]]<-NULL\n",
    "\n",
    "data=NULL\n",
    "\n",
    "for (i in 1:29){\n",
    "    data=c(data,eval(parse(text=paste(\"a\", i, sep = \"\"))))\n",
    "}"
   ]
  },
  {
   "cell_type": "code",
   "execution_count": 3,
   "metadata": {
    "collapsed": true,
    "scrolled": true
   },
   "outputs": [],
   "source": [
    "%%R\n",
    "gamma=NULL\n",
    "u=NULL\n",
    "r=NULL\n",
    "R=NULL\n",
    "S=NULL\n",
    "k_optimal=NULL\n",
    "k_lethal=NULL\n",
    "cost=NULL\n",
    "for (k in data){\n",
    "     gamma=append(gamma,k$par[1])\n",
    "     u=append(u,k$par[2])\n",
    "     r=append(r,k$par[3])\n",
    "     R=append(R,k$par[4])\n",
    "     S=append(S,k$par[5])\n",
    "     k_optimal=round(append(k_optimal,k$par[6]))  \n",
    "     k_lethal=round(append(k_lethal,k$par[7]))\n",
    "     cost=append(cost,k$value)\n",
    "\n",
    "}\n",
    "\n",
    "plot_data=data.frame(cbind(gamma,u,r,R,S,k_optimal,k_lethal,cost))"
   ]
  },
  {
   "cell_type": "code",
   "execution_count": 4,
   "metadata": {},
   "outputs": [],
   "source": [
    "%%R\n",
    "library(ggplot2)\n",
    "theme=theme_bw() + theme(axis.title.x = element_text(size = 24),\n",
    "            axis.title.y = element_text(size = 24),\n",
    "            axis.text.x = element_text(size = 15), \n",
    "            axis.text.y = element_text(size = 15),\n",
    "            panel.grid.major = element_blank(), panel.grid.minor = element_blank(),\n",
    "            panel.border = element_rect(size=2), \n",
    ")"
   ]
  },
  {
   "cell_type": "code",
   "execution_count": 5,
   "metadata": {
    "collapsed": true
   },
   "outputs": [],
   "source": [
    "%%R\n",
    "hist1=ggplot(plot_data,aes(x=gamma))+\n",
    "    geom_histogram(binwidth=0.05)+\n",
    "    scale_x_continuous(limits = c(1e-8, 1e-2),trans='log10',breaks = c(1e-8, 1e-6, 1e-4,1e-2))+\n",
    "    theme"
   ]
  },
  {
   "cell_type": "code",
   "execution_count": 6,
   "metadata": {
    "collapsed": true
   },
   "outputs": [],
   "source": [
    "%%R\n",
    "hist2=ggplot(plot_data,aes(x=u))+\n",
    "    geom_histogram(binwidth=0.05)+\n",
    "    scale_x_continuous(limits = c(1e-8, 1e-2),trans='log10',breaks = c(1e-8, 1e-6, 1e-4,1e-2))+\n",
    "    theme"
   ]
  },
  {
   "cell_type": "code",
   "execution_count": 7,
   "metadata": {
    "collapsed": true
   },
   "outputs": [],
   "source": [
    "%%R\n",
    "hist3=ggplot(plot_data,aes(x=r))+\n",
    "    geom_histogram(binwidth=0.02)+\n",
    "    scale_x_continuous(limits = c(1, 5))+\n",
    "    theme"
   ]
  },
  {
   "cell_type": "code",
   "execution_count": 8,
   "metadata": {
    "collapsed": true
   },
   "outputs": [],
   "source": [
    "%%R\n",
    "hist4=ggplot(plot_data,aes(x=R))+\n",
    "    geom_histogram(binwidth=0.05)+\n",
    "    scale_x_continuous(limits = c(1, 5))+\n",
    "    theme"
   ]
  },
  {
   "cell_type": "code",
   "execution_count": 9,
   "metadata": {
    "collapsed": true
   },
   "outputs": [],
   "source": [
    "%%R\n",
    "hist5=ggplot(plot_data,aes(x=S))+\n",
    "    geom_histogram(binwidth=0.005)+\n",
    "    theme"
   ]
  },
  {
   "cell_type": "code",
   "execution_count": 10,
   "metadata": {
    "collapsed": true
   },
   "outputs": [],
   "source": [
    "%%R\n",
    "hist6=ggplot(plot_data,aes(x=k_optimal))+\n",
    "    geom_histogram(binwidth=0.5)+\n",
    "    scale_x_continuous(limits = c(1, 40))+\n",
    "    theme"
   ]
  },
  {
   "cell_type": "code",
   "execution_count": 11,
   "metadata": {
    "collapsed": true
   },
   "outputs": [],
   "source": [
    "%%R\n",
    "hist7=ggplot(plot_data,aes(x=k_lethal))+\n",
    "    geom_histogram(binwidth=0.5)+\n",
    "    scale_x_continuous(limits = c(1, 40))+\n",
    "    theme"
   ]
  },
  {
   "cell_type": "code",
   "execution_count": 12,
   "metadata": {
    "collapsed": true
   },
   "outputs": [],
   "source": [
    "%%R\n",
    "hist8=ggplot(plot_data,aes(x=cost))+\n",
    "    geom_histogram()+\n",
    "    scale_x_continuous(limits=c(0.0005,0.0007),labels=c(0.0005,0.0006,0.0007),breaks=c(0.0005,0.0006,0.0007))+\n",
    "    theme"
   ]
  },
  {
   "cell_type": "code",
   "execution_count": 13,
   "metadata": {},
   "outputs": [
    {
     "name": "stderr",
     "output_type": "stream",
     "text": [
      "/Users/han/anaconda2/envs/ml/lib/python2.7/site-packages/rpy2/rinterface/__init__.py:186: RRuntimeWarning: `stat_bin()` using `bins = 30`. Pick better value with `binwidth`.\n",
      "\n",
      "  warnings.warn(x, RRuntimeWarning)\n"
     ]
    },
    {
     "data": {
      "text/plain": [
       "quartz_off_screen \n",
       "                2 \n"
      ]
     },
     "metadata": {},
     "output_type": "display_data"
    }
   ],
   "source": [
    "%%R\n",
    "library(grid)\n",
    "pdf(\"Figure_S7.pdf\",height=10, width=16)\n",
    "vp1<-viewport(width=0.24,height=0.475,x=0.125,y=0.75)\n",
    "vp2<-viewport(width=0.24,height=0.475,x=0.37,y=0.75)\n",
    "vp3<-viewport(width=0.24,height=0.475,x=0.62,y=0.75)\n",
    "vp4<-viewport(width=0.24,height=0.475,x=0.87,y=0.75)\n",
    "vp5<-viewport(width=0.24,height=0.475,x=0.12,y=0.25)\n",
    "vp6<-viewport(width=0.24,height=0.475,x=0.37,y=0.25)\n",
    "vp7<-viewport(width=0.24,height=0.475,x=0.62,y=0.25)\n",
    "vp8<-viewport(width=0.24,height=0.475,x=0.87,y=0.25)\n",
    "print(hist1,vp=vp1)\n",
    "print(hist2,vp=vp2)\n",
    "print(hist3,vp=vp3)\n",
    "print(hist4,vp=vp4)\n",
    "print(hist5,vp=vp5)\n",
    "print(hist6,vp=vp6)\n",
    "print(hist7,vp=vp7)\n",
    "print(hist8,vp=vp8)\n",
    "dev.off() "
   ]
  },
  {
   "cell_type": "code",
   "execution_count": null,
   "metadata": {
    "collapsed": true
   },
   "outputs": [],
   "source": []
  }
 ],
 "metadata": {
  "kernelspec": {
   "display_name": "Python 2",
   "language": "python",
   "name": "python2"
  },
  "language_info": {
   "codemirror_mode": {
    "name": "ipython",
    "version": 2
   },
   "file_extension": ".py",
   "mimetype": "text/x-python",
   "name": "python",
   "nbconvert_exporter": "python",
   "pygments_lexer": "ipython2",
   "version": "2.7.14"
  }
 },
 "nbformat": 4,
 "nbformat_minor": 2
}
