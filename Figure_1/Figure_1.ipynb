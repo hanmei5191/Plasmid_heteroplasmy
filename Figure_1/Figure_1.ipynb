{
 "cells": [
  {
   "cell_type": "code",
   "execution_count": 1,
   "metadata": {
    "collapsed": true
   },
   "outputs": [],
   "source": [
    "%load_ext rpy2.ipython "
   ]
  },
  {
   "cell_type": "markdown",
   "metadata": {},
   "source": [
    "## Four blocks below generate Figure 1 in the manuscript. \n",
    "## Base position is projected to y-axis. "
   ]
  },
  {
   "cell_type": "code",
   "execution_count": 2,
   "metadata": {
    "collapsed": true
   },
   "outputs": [],
   "source": [
    "%%R\n",
    "rm(list=ls())\n",
    "library(ggplot2)\n",
    "data<-read.delim(\"F1_data.tab\",header=TRUE)\n",
    "data$position=as.factor(data$position)\n",
    "data$sample=as.factor(data$sample)\n",
    "data$frequency=data$frequency*100"
   ]
  },
  {
   "cell_type": "code",
   "execution_count": 3,
   "metadata": {
    "collapsed": true
   },
   "outputs": [],
   "source": [
    "%%R \n",
    "lab=labs(x=\"Time (hour)\", y=\"Position\", size=\"Frequency\",col=\"Position\")\n",
    "cols<-c(\"3027\" = \"#a6cee3\", \n",
    "        \"3028\" = \"#1f78b4\", \n",
    "        \"3029\" = \"#b2df8a\", \n",
    "        \"3030\" = \"#33a02c\", \n",
    "        \"3031\" = \"#fb9a99\", \n",
    "        \"3032\" = \"#e31a1c\", \n",
    "        \"3033\" = \"#fdbf6f\", \n",
    "        \"3034\" = \"#ff7f00\", \n",
    "        \"3035\" = \"#cab2d6\",\n",
    "        \"3118\" = \"#6a3d9a\",\n",
    "        \"other\" = \"grey\"\n",
    "        )\n",
    "col_pal=scale_color_manual(values=cols)\n",
    "\n",
    "legend_range_large=scale_size(range=c(1,14),limits=c(0,1),breaks=c(0.2,1),labels=c(\"0.2%\",\"1.0%\"))\n",
    "legend_range_small=scale_size(range=c(1,14),limits=c(0,1),breaks=c(0.2,1),labels=c(\"0.2%\",\"1.0%\"))\n",
    "\n",
    "theme=theme_bw() + theme(axis.title.x = element_text(size = 28),\n",
    "            axis.title.y = element_text(size = 28,vjust=50),\n",
    "            axis.text.x = element_text(size = 20), \n",
    "            axis.text.y = element_text(size = 20),\n",
    "            panel.grid.major = element_blank(), panel.grid.minor = element_blank(),\n",
    "            panel.border = element_rect(size=2), \n",
    "            legend.text = element_text(size = 16),\n",
    "            legend.title = element_text(size = 16),\n",
    "            legend.justification = c(\"right\", \"top\"), \n",
    "            legend.spacing=unit(0, \"pt\")\n",
    ")\n",
    "\n",
    "x_axis_short=scale_x_discrete(limits=as.factor(seq(0,5,1)),\n",
    "                         labels=c(\"0\"=\"0\",\"1\"=\"12\",\"2\"=\"24\",\"3\"=\"36\",\"4\"=\"48\",\"5\"=\"60\"))  \n",
    "x_axis_long=scale_x_discrete(limits=as.factor(seq(0,5,1)),\n",
    "                         labels=c(\"0\"=\"72\",\"1\"=\"84\",\"2\"=\"108\",\"3\"=\"156\",\"4\"=\"240\",\"5\"=\"318\"))  \n",
    "y_axis=scale_y_discrete(limits=as.factor(c(3118,seq(3035,3027,-1)))) \n",
    "\n",
    "legend_order=guides(size = guide_legend(order = 1))\n",
    "\n",
    "suppress_legend=theme(legend.position=\"none\")"
   ]
  },
  {
   "cell_type": "code",
   "execution_count": 4,
   "metadata": {
    "collapsed": true
   },
   "outputs": [],
   "source": [
    "%%R \n",
    "scatterplot1=ggplot(subset(data,replicate=='R1'&region==\"loop\"),aes(sample,position)) + \n",
    "    geom_point(aes(col=position,size=frequency)) + \n",
    "        col_pal + \n",
    "        legend_range_large+ \n",
    "        lab + \n",
    "        theme + \n",
    "        x_axis_short +  \n",
    "        y_axis + \n",
    "        annotate (\"text\",1,9.5,label=\"R1\",size=16) +\n",
    "        labs(x=NULL) + \n",
    "        legend_order + \n",
    "        suppress_legend\n",
    "\n",
    "scatterplot2=ggplot(subset(data,replicate=='R2'&region==\"loop\"),aes(sample,position)) + \n",
    "    geom_point(aes(col=position,size=frequency)) + \n",
    "        col_pal + \n",
    "        legend_range_small +\n",
    "        lab + \n",
    "        theme + \n",
    "        x_axis_short +  \n",
    "        y_axis + \n",
    "        annotate (\"text\",1,9.5,label=\"R2\",size=16) +\n",
    "        legend_order +\n",
    "        suppress_legend\n",
    "\n",
    "scatterplot6=ggplot(subset(data,replicate=='R6'&region==\"loop\"),aes(sample,position)) + \n",
    "    geom_point(aes(col=position,size=frequency)) + \n",
    "        col_pal +\n",
    "        legend_range_small +\n",
    "        lab + \n",
    "        theme + \n",
    "        x_axis_long + \n",
    "        y_axis + \n",
    "        annotate (\"text\",6,9.5,label=\"R6\",size=16) + \n",
    "        labs(y=NULL) + \n",
    "        legend_order +\n",
    "        suppress_legend\n",
    "\n",
    "scatterplot7=ggplot(subset(data,replicate=='R7'&region==\"loop\"),aes(sample,position)) + \n",
    "    geom_point(aes(col=position,size=frequency)) + \n",
    "        col_pal + \n",
    "        legend_range_large + \n",
    "        lab + \n",
    "        theme + \n",
    "        x_axis_long + \n",
    "        y_axis + \n",
    "        annotate (\"text\",6,9.5,label=\"R7\",size=16) +\n",
    "        labs(y=NULL) +\n",
    "        labs(x=NULL) + \n",
    "        legend_order + \n",
    "        guides(colour = guide_legend(override.aes = list(size=6)))"
   ]
  },
  {
   "cell_type": "code",
   "execution_count": 5,
   "metadata": {},
   "outputs": [
    {
     "data": {
      "text/plain": [
       "quartz_off_screen \n",
       "                2 \n"
      ]
     },
     "metadata": {},
     "output_type": "display_data"
    }
   ],
   "source": [
    "%%R \n",
    "library(grid)\n",
    "pdf(\"Figure_1.pdf\",height=10, width=16)\n",
    "vp1<-viewport(width=0.44,height=0.45,x=0.25,y=0.75)\n",
    "vp2<-viewport(width=0.44,height=0.5,x=0.25,y=0.25)\n",
    "vp7<-viewport(width=0.408,height=0.5,x=0.708,y=0.25)\n",
    "vp6<-viewport(width=0.49,height=0.45,x=0.75,y=0.75)\n",
    "print(scatterplot1,vp=vp1)\n",
    "print(scatterplot2,vp=vp2)\n",
    "print(scatterplot6,vp=vp7)\n",
    "print(scatterplot7,vp=vp6)\n",
    "dev.off() "
   ]
  },
  {
   "cell_type": "code",
   "execution_count": null,
   "metadata": {
    "collapsed": true
   },
   "outputs": [],
   "source": []
  },
  {
   "cell_type": "code",
   "execution_count": null,
   "metadata": {
    "collapsed": true
   },
   "outputs": [],
   "source": []
  }
 ],
 "metadata": {
  "kernelspec": {
   "display_name": "Python 2",
   "language": "python",
   "name": "python2"
  },
  "language_info": {
   "codemirror_mode": {
    "name": "ipython",
    "version": 2
   },
   "file_extension": ".py",
   "mimetype": "text/x-python",
   "name": "python",
   "nbconvert_exporter": "python",
   "pygments_lexer": "ipython2",
   "version": "2.7.14"
  }
 },
 "nbformat": 4,
 "nbformat_minor": 2
}
