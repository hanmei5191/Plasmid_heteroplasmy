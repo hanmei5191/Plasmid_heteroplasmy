{
 "cells": [
  {
   "cell_type": "code",
   "execution_count": 1,
   "metadata": {
    "collapsed": true
   },
   "outputs": [],
   "source": [
    "%load_ext rpy2.ipython "
   ]
  },
  {
   "cell_type": "code",
   "execution_count": 2,
   "metadata": {
    "scrolled": false
   },
   "outputs": [
    {
     "data": {
      "text/plain": [
       "quartz_off_screen \n",
       "                2 \n"
      ]
     },
     "metadata": {},
     "output_type": "display_data"
    }
   ],
   "source": [
    "%%R \n",
    "library(ggplot2)\n",
    "data<-read.delim(\"S2_data.tab\",header=TRUE)\n",
    "\n",
    "levels=c(\"CG\", \"GC\", \"AT\", \"TA\", \"AC\", \"TG\", \"CA\", \"GT\", \"AG\", \"TC\", \"CT\", \"GA\")\n",
    "data$subs <- factor(data$subs,levels=levels)\n",
    "\n",
    "p <- ggplot(data,aes(as.numeric(subs)))\n",
    "p1 <- p + geom_histogram(binwidth=0.5,fill=\"black\",alpha=I(1/3)) +\n",
    "    scale_x_continuous(breaks=seq(1,12), labels=levels) + \n",
    "    labs(x=NULL, y=\"SNV counts\", title=\"Mutational spectrum\") +\n",
    "    theme_classic() + \n",
    "    theme(plot.title = element_text(size = 36,hjust=0.5,face=\"bold\"), \n",
    "          axis.title.y = element_text(size = 28), \n",
    "          axis.text.x = element_text(size = 20), \n",
    "          axis.text.y = element_text(size = 20)) \n",
    "\n",
    "\n",
    "p2<-ggplot(data.frame(x=seq(1,12),y=rep(1,12)),aes(x,y)) + \n",
    "    geom_segment(aes(x = 1.8, y = 1, xend = 8.2, yend = 1),size=1) +  \n",
    "    geom_segment(aes(x = 9, y = 1, xend = 12, yend = 1),size=1) + \n",
    "    theme(panel.grid.minor = element_blank(), \n",
    "          panel.grid.major = element_blank(), \n",
    "          panel.background = element_blank(),\n",
    "          axis.title.x = element_blank(),axis.text.x = element_blank(),\n",
    "          axis.title.y = element_blank(),axis.text.y = element_blank(), \n",
    "          axis.ticks.x=element_blank(), \n",
    "          axis.ticks.y=element_blank()\n",
    "         ) + \n",
    "    xlim(1,12) +  \n",
    "    ylim(0,2) + \n",
    "    annotate(\"text\", x = c(5,10.5), y=0.2, label = c(\"Transversions\",\"Transitions\"),size=8)\n",
    "\n",
    "\n",
    "library(grid)\n",
    "pdf(\"Figure_S2.pdf\",height=8.5, width=11)\n",
    "vp1<-viewport(width=1,height=0.85,x=0.5,y=0.55)\n",
    "vp2<-viewport(width=1,height=0.15,x=0.5,y=0.10)\n",
    "print(p2,vp=vp2)\n",
    "print(p1,vp=vp1)\n",
    "dev.off() "
   ]
  },
  {
   "cell_type": "code",
   "execution_count": null,
   "metadata": {
    "collapsed": true
   },
   "outputs": [],
   "source": []
  }
 ],
 "metadata": {
  "kernelspec": {
   "display_name": "Python 2",
   "language": "python",
   "name": "python2"
  },
  "language_info": {
   "codemirror_mode": {
    "name": "ipython",
    "version": 2
   },
   "file_extension": ".py",
   "mimetype": "text/x-python",
   "name": "python",
   "nbconvert_exporter": "python",
   "pygments_lexer": "ipython2",
   "version": "2.7.14"
  }
 },
 "nbformat": 4,
 "nbformat_minor": 2
}
