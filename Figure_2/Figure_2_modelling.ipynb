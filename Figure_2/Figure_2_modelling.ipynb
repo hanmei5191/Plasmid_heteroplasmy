{
 "cells": [
  {
   "cell_type": "code",
   "execution_count": 1,
   "metadata": {
    "collapsed": true
   },
   "outputs": [],
   "source": [
    "%load_ext rpy2.ipython"
   ]
  },
  {
   "cell_type": "markdown",
   "metadata": {},
   "source": [
    "#### This notebook describes modelling plasmid heteroplasmy with individual cells. Mutation(s) would most likely occur on several, but not all, copies of plasmids within a cell, which makes the plasmid heterogeneous. Here, we model the transmission of mutant plasmids by dissecting it into several steps: \n",
    "\n",
    "- Cell division: plasmids diffuse into daughter cells, following binomial and hypergeomtric distributions. \n",
    "\n",
    "- Chromosomal mutaton: adaptation of E. coli cells to LB medium. \n",
    "\n",
    "- Plasmid replication and mutation: plasmid mutations empirically observed increase replication rate. \n",
    "\n",
    "- Cell growth: the higher copy number, the better growth by pumping out tetracycline more efficiently. \n",
    "\n",
    "These steps are defined as functions shown below. "
   ]
  },
  {
   "cell_type": "code",
   "execution_count": 2,
   "metadata": {
    "collapsed": true
   },
   "outputs": [],
   "source": [
    "%%R\n",
    "w_max=m_max=40\n",
    "\n",
    "nt_init=matrix(0,nrow=w_max+1,ncol=m_max+1)\n",
    "w_init=20\n",
    "m_init=0\n",
    "nt_init[w_init+1,m_init+1]=3.12e9\n",
    "rownames(nt_init)=paste0('w',0:w_max)\n",
    "colnames(nt_init)=paste0('m',0:m_max)\n",
    "\n",
    "cell_division <- function(nt,k_lethal){\n",
    "  nt_div=nt*0\n",
    "  for(a in 0:(k_lethal-1)){ # wild-type \n",
    "    for(b in 0:(k_lethal-1-a)){ # mutant\n",
    "      p_nt=dbinom(0:(a+b),a+b,0.5)*nt[a+1,b+1] \n",
    "      for(jpk in 0:(a+b)){ \n",
    "        j_all=max(0,jpk-b):min(a,jpk) \n",
    "        new_all=p_nt[jpk+1]*dhyper(j_all,a,b,jpk) \n",
    "        nt_div[(jpk-j_all)*(w_max+1)+j_all+1]=nt_div[(jpk-j_all)*(w_max+1)+j_all+1]+new_all \n",
    "        nt_div[(b-jpk+j_all)*(w_max+1)+a-j_all+1]=nt_div[(b-jpk+j_all)*(w_max+1)+a-j_all+1]+new_all \n",
    "      }\n",
    "    }\n",
    "  }\n",
    "  return (nt_div)\n",
    "}\n",
    "\n",
    "plasmid_replication_mutation <- function(nt_div,u,r,R,k_lethal){\n",
    "  nt_growth=nt_div*0\n",
    "  for(a in 0:(k_lethal-1)){ # wild-type\n",
    "    a_plus1=floor(a*r)\n",
    "    new_wt=a_plus1-a\n",
    "    w_to_m=0:new_wt\n",
    "    a_plus2=a_plus1-w_to_m\n",
    "    a_plus2=ifelse(a_plus2<=w_max,a_plus2,w_max) \n",
    "    \n",
    "    p_w_to_m=dbinom(w_to_m,new_wt,u)\n",
    "    \n",
    "    for(b in 0:(k_lethal-1-a)){ # mutant\n",
    "      b_plus1=floor(b*R)\n",
    "      b_plus2=b_plus1+w_to_m\n",
    "      new=nt_div[a+1,b+1]*p_w_to_m\n",
    "      for (i in w_to_m[b_plus2<=m_max]+1){\n",
    "          nt_growth[a_plus2[i]+1,b_plus2[i]+1]=nt_growth[a_plus2[i]+1,b_plus2[i]+1]+new[i]\n",
    "      }\n",
    "    }       \n",
    "  }\n",
    "  return (nt_growth)   \n",
    "}\n",
    "\n",
    "cell_g0_selection <-function(nt_growth, S, k_optimal, k_lethal){\n",
    "  nt_selection=nt_growth*0\n",
    "  \n",
    "  for(a in 0:(k_lethal-1)){ # wild-type\n",
    "    for(b in 0:(k_lethal-1-a)){ # mutant\n",
    "      if ((a+b)==0){\n",
    "        nt_selection[a+1,b+1]=0\n",
    "      } else if ((a+b)<=k_optimal){\n",
    "        nt_selection[a+1,b+1]=nt_growth[a+1,b+1]*(S+(1-S)*(a+b-1)/(k_optimal-1))\n",
    "      } else {\n",
    "        nt_selection[a+1,b+1]=nt_growth[a+1,b+1]*((k_lethal-a-b)/(k_lethal-k_optimal))\n",
    "      }\n",
    "    }\n",
    "  }\n",
    "\n",
    "  if (sum(nt_selection)<1){\n",
    "    return (nt_selection*0)\n",
    "  } else if (sum(nt_selection)>3.12e9){\n",
    "    return (nt_selection*3.12e9/sum(nt_selection))\n",
    "  }  else {\n",
    "    return (nt_selection)\n",
    "  }\n",
    "}\n",
    "\n",
    "cell_g1_selection<-function(nt_growth, k_lethal){\n",
    "  rotate=function(mat){ t(mat[nrow(mat):1,,drop=FALSE]) }\n",
    "  nt_selection=nt_growth*0\n",
    "  nt_selection[seq_len(k_lethal),seq_len(k_lethal)][rotate(lower.tri(matrix(NA,nrow=k_lethal,ncol=k_lethal),diag=TRUE))]=\n",
    "    nt_growth[seq_len(k_lethal),seq_len(k_lethal)][rotate(lower.tri(matrix(NA,nrow=k_lethal,ncol=k_lethal),diag=TRUE))]\n",
    "  nt_selection[1,1]=0 # a+b=0\n",
    "  \n",
    "  if (sum(nt_selection)<1){\n",
    "    return (nt_selection*0)\n",
    "  } else if (sum(nt_selection)>3.12e9){\n",
    "    return (nt_selection*3.12e9/sum(nt_selection))\n",
    "  }  else {\n",
    "    return (nt_selection)\n",
    "  }\n",
    "}\n",
    "\n",
    "fcell_2_fplasmid <- function(nt_g0_selection,nt_g1_selection){\n",
    "  nt_selection=nt_g0_selection+nt_g1_selection\n",
    "  wt_plasmid=sum(nt_selection*(0:w_max))\n",
    "  mutant_plasmid=sum(t(nt_selection)*(0:m_max))  \n",
    "  return (mutant_plasmid/(wt_plasmid+mutant_plasmid))    \n",
    "}"
   ]
  },
  {
   "cell_type": "markdown",
   "metadata": {},
   "source": [
    "#### We define a cost function minimizing the difference between simulated mutant plasmid frequcncy and the empirical data. "
   ]
  },
  {
   "cell_type": "code",
   "execution_count": null,
   "metadata": {
    "collapsed": true
   },
   "outputs": [],
   "source": [
    "%%R \n",
    "nt_g0_init=nt_init\n",
    "nt_g1_init=nt_init*0\n",
    "\n",
    "generation=318\n",
    "mutant_plasmid_freq=rep(-1,generation)\n",
    "nt_g0=nt_g0_init\n",
    "nt_g1=nt_g1_init\n",
    "\n",
    "emperical_data=read.delim(\"F2_data.tab\", header=TRUE)\n",
    "emperical_generations=emperical_data$generations\n",
    "\n",
    "cost<-function(theta){\n",
    "  gamma=theta[1]\n",
    "  u=theta[2]\n",
    "  r=theta[3]\n",
    "  R=theta[4]\n",
    "  S=theta[5]  \n",
    "  k_optimal=round(theta[6])  \n",
    "  k_lethal=round(theta[7])\n",
    "  if(gamma<=0 | gamma>=1 | u<=0 | u>=1 | r<1 | R<1 | r>=R | S<=0.5 | S>1 | k_optimal<=0 | k_lethal<=k_optimal | k_lethal>m_max){\n",
    "        return(+Inf)\n",
    "  }\n",
    "  for (i in 1:generation){\n",
    "    nt_g0_div=cell_division(nt_g0,k_lethal)\n",
    "    nt_g1_div=cell_division(nt_g1,k_lethal)\n",
    "    \n",
    "    nt_g1_div=nt_g1_div+nt_g0_div*gamma\n",
    "    nt_g0_div=nt_g0_div-nt_g0_div*gamma\n",
    "    \n",
    "    nt_g0_growth=plasmid_replication_mutation(nt_g0_div,u,r,R,k_lethal)\n",
    "    nt_g1_growth=plasmid_replication_mutation(nt_g1_div,u,r,R,k_lethal)\n",
    "    \n",
    "    nt_g0_selection=cell_g0_selection(nt_g0_growth, S, k_optimal, k_lethal)\n",
    "    nt_g1_selection=cell_g1_selection(nt_g1_growth, k_lethal) \n",
    "    \n",
    "    if (sum(nt_g0_selection)<1 | sum(nt_g1_selection)<1)\n",
    "      return (+Inf)\n",
    "    \n",
    "    mutant_plasmid_freq[i]=fcell_2_fplasmid(nt_g0_selection,nt_g1_selection)\n",
    "      \n",
    "    nt_g0=nt_g0_selection\n",
    "    nt_g1=nt_g1_selection\n",
    "  }\n",
    "  diff=mutant_plasmid_freq[emperical_generations]-emperical_data$frequency\n",
    "  return (sum(diff^2))\n",
    "}"
   ]
  },
  {
   "cell_type": "markdown",
   "metadata": {},
   "source": [
    "#### Randomly draw parameters to feed into the model."
   ]
  },
  {
   "cell_type": "code",
   "execution_count": 4,
   "metadata": {
    "collapsed": true
   },
   "outputs": [],
   "source": [
    "%%R\n",
    "draw_parameters=function(){\n",
    "  gamma_log=runif(1, -8, -2)\n",
    "  gamma=10^gamma_log\n",
    "  u_log=runif(1, -8, -2)\n",
    "  u=10^u_log\n",
    "  r=runif(1, 1, 5)\n",
    "  R=runif(1, r, 5)\n",
    "  S=runif(1, 0.5, 1)\n",
    "  k_optimal=sample(m_max-1,1)\n",
    "  k_lethal=sample(max(w_init+m_init+1,k_optimal+1):m_max,1)\n",
    "  theta0=c(gamma,u, r, R, S, k_optimal, k_lethal)\n",
    "  return(theta0)\n",
    "}"
   ]
  },
  {
   "cell_type": "markdown",
   "metadata": {},
   "source": [
    "#### Run one round of optimization. The optim function cannot be initially evaluated at some randonly chosen values of the parameters, therefore, we use tryCatch to keep drawing random numbers until the optimization is done successfully. "
   ]
  },
  {
   "cell_type": "code",
   "execution_count": 17,
   "metadata": {
    "collapsed": true
   },
   "outputs": [],
   "source": [
    "%%R\n",
    "run_optim=function(trial){\n",
    "  err=simpleError(\"Fake error to start\")\n",
    "  counter=1\n",
    "  max_tries=100\n",
    "  while(inherits(err, \"error\") && counter < max_tries){\n",
    "    counter = counter + 1\n",
    "    tryCatch(\n",
    "       {theta0=draw_parameters()\n",
    "        res=optim(theta0,cost,control=c(maxit=1e6))\n",
    "        err=\"Run successfully\"\n",
    "        return(res)}, \n",
    "        error=function(e) {\n",
    "        err=simpleError(\"error during loop\")\n",
    "        }\n",
    "    )\n",
    "  }\n",
    "}"
   ]
  },
  {
   "cell_type": "markdown",
   "metadata": {},
   "source": [
    "#### Parallel optimizations into multiple cores. Each node on slurm has 64 cores. For a job paralleling 63 optimizations on 64 cores, it takes 6 - 7 days to run. "
   ]
  },
  {
   "cell_type": "code",
   "execution_count": 12,
   "metadata": {
    "collapsed": true
   },
   "outputs": [],
   "source": [
    "%%R\n",
    "library(parallel)\n",
    "numCores=detectCores()\n",
    "trials=seq(1, 63)\n",
    "ptm=proc.time()\n",
    "results <- mclapply(trials, run_optim, mc.cores = numCores)"
   ]
  },
  {
   "cell_type": "markdown",
   "metadata": {},
   "source": [
    "#### Output the parameter set generating the smallest cost. This parameter set is used to plot the trajectory of mutant plasmid frequency (see \"Trajectory\"). Save all optimizations performed. "
   ]
  },
  {
   "cell_type": "code",
   "execution_count": 26,
   "metadata": {
    "collapsed": true
   },
   "outputs": [],
   "source": [
    "%%R\n",
    "sink (\"Plasmid_v3_optim.txt\")\n",
    "print(proc.time()-ptm)\n",
    "\n",
    "cost_dist=NA\n",
    "min_loss=1\n",
    "min_loss_par=rep(-1,7)\n",
    "num_unconv=0\n",
    "num_optim=0\n",
    "for (k in results){\n",
    "    if (!(is.null(k))){\n",
    "        num_optim=num_optim+1\n",
    "        if (k$convergence == 1){\n",
    "            num_unconv=num_unconv+1\n",
    "        }\n",
    "        \n",
    "        else{\n",
    "            cost_dist=append(cost_dist,k$value)\n",
    "            if (k$value < min_loss){\n",
    "                min_loss=k$value\n",
    "                min_loss_par=k$par\n",
    "            }\n",
    "        }\n",
    "    }\n",
    "}\n",
    "\n",
    "cat (\"min_loss:\", min_loss, \"\\n\")\n",
    "cat (\"min_loss_par:\", min_loss_par, \"\\n\") \n",
    "cat (\"Number of optimization performed:\", num_optim, \"\\n\")\n",
    "cat (\"Number of unconverged optimization:\", num_unconv, \"\\n\")\n",
    "sink()\n",
    "\n",
    "pdf(\"cost_dist.pdf\")\n",
    "hist(cost_dist)\n",
    "dev.off()\n",
    "\n",
    "save(results,file=\"results.RData\")"
   ]
  }
 ],
 "metadata": {
  "kernelspec": {
   "display_name": "Python 2",
   "language": "python",
   "name": "python2"
  },
  "language_info": {
   "codemirror_mode": {
    "name": "ipython",
    "version": 2
   },
   "file_extension": ".py",
   "mimetype": "text/x-python",
   "name": "python",
   "nbconvert_exporter": "python",
   "pygments_lexer": "ipython2",
   "version": "2.7.14"
  }
 },
 "nbformat": 4,
 "nbformat_minor": 2
}
