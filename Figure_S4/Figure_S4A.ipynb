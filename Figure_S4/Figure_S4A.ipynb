{
 "cells": [
  {
   "cell_type": "code",
   "execution_count": 1,
   "metadata": {
    "collapsed": true
   },
   "outputs": [],
   "source": [
    "%load_ext rpy2.ipython "
   ]
  },
  {
   "cell_type": "markdown",
   "metadata": {},
   "source": [
    "## Growth rate in the following two blocks was calculated using the formula in the manuscript. "
   ]
  },
  {
   "cell_type": "code",
   "execution_count": 2,
   "metadata": {},
   "outputs": [
    {
     "name": "stderr",
     "output_type": "stream",
     "text": [
      "/Users/han/anaconda2/envs/ml/lib/python2.7/site-packages/rpy2/rinterface/__init__.py:186: RRuntimeWarning: Find out what's changed in ggplot2 at\n",
      "https://github.com/tidyverse/ggplot2/releases.\n",
      "\n",
      "  warnings.warn(x, RRuntimeWarning)\n"
     ]
    }
   ],
   "source": [
    "%%R \n",
    "library(ggplot2)\n",
    "theme=theme_classic()+ \n",
    "      theme(plot.title = element_text(size = 28,hjust=0.5,face=\"bold\"), \n",
    "          axis.title.y = element_text(size = 24),\n",
    "          axis.title.x = element_text(size = 24),\n",
    "          axis.text.x = element_text(size = 20), \n",
    "          axis.text.y = element_text(size = 20)) "
   ]
  },
  {
   "cell_type": "code",
   "execution_count": 3,
   "metadata": {
    "collapsed": true
   },
   "outputs": [],
   "source": [
    "%%R \n",
    "data1<-read.delim(\"S4A_data1.tab\", header=TRUE)\n",
    "growRate=rep(-1,27)\n",
    "doublingTime=rep(-1,27)\n",
    "for (i in seq(1,27)){    \n",
    "    tmp=data1[,2*i][!is.na(data1[,2*i])]\n",
    "    len=length(tmp)\n",
    "    \n",
    "    init_time=data1[1,2*i-1]\n",
    "    term_time=data1[len,2*i-1]\n",
    "    \n",
    "    init_OD=data1[1,2*i]\n",
    "    term_OD=data1[len,2*i]\n",
    "    \n",
    "    growRate[i]=log(term_OD/init_OD)/(term_time-init_time)\n",
    "    doublingTime[i]=log(2)/growRate[i]\n",
    "}\n",
    "\n",
    "tmp1=data.frame(x=seq(0,312,12),y=growRate)\n",
    "p1=ggplot(tmp1,aes(x,y))\n",
    "\n",
    "q1 = p1 + geom_point(size=c(5,rep(3,26)),pch=c(17,rep(16,26)),col=c(\"red\",rep(\"black\",26))) +\n",
    "    labs(x=\"Time (hour)\", y=\"Growth rate\", title=\"Turbidostat replicate R6 fitness\") + \n",
    "    geom_text(label=c(\"0 h\",rep(\"\",25),\"312 h\"),vjust = 1.5,size=6) + \n",
    "    theme + \n",
    "    theme(plot.title = element_text(hjust=0.8)) + \n",
    "    theme(axis.title.x = element_text(hjust=0.6)) + \n",
    "    scale_x_continuous(limits=c(0,324),breaks = seq(0,324,36)) +\n",
    "    scale_y_continuous(limits = c(0,0.016),breaks = seq(0,0.016,0.004)) "
   ]
  },
  {
   "cell_type": "code",
   "execution_count": 4,
   "metadata": {
    "collapsed": true
   },
   "outputs": [],
   "source": [
    "%%R \n",
    "data2<-read.delim(\"S4A_data2.tab\", header=TRUE)\n",
    "growRate2=rep(-1,12)\n",
    "doublingTime2=rep(-1,12)\n",
    "for (i in seq(1,12)){ \n",
    "    tmp=data2[,2*i][!is.na(data2[,2*i])]\n",
    "    len=length(tmp)\n",
    "    \n",
    "    init_time=data2[1,2*i-1]\n",
    "    term_time=data2[len,2*i-1]\n",
    "    \n",
    "    init_OD=data2[1,2*i]\n",
    "    term_OD=data2[len,2*i]\n",
    "    \n",
    "    growRate2[i]=log(term_OD/init_OD)/(term_time-init_time)\n",
    "    doublingTime2[i]=log(2)/growRate2[i]\n",
    "}\n",
    "\n",
    "tmp2=data.frame(x=rep(1:2,each=3),y=growRate2[1:6])\n",
    "p2=ggplot(tmp2,aes(x,y))\n",
    "q2=p2 + geom_point(size=5,pch=17,col=\"red\") +\n",
    "    labs(x=\"\", y=\"\", title=\"\") + \n",
    "    annotate(\"text\", label = c(\"0 h\",\"318 h\"), x=c(1,2), y=c(0.0065,0.011), size=6,vjust=9) +\n",
    "    theme + \n",
    "    scale_x_discrete(limits=c(\"0\",\"318\")) +\n",
    "    scale_y_continuous(limits = c(0,0.016),breaks = seq(0,0.016,0.004))"
   ]
  },
  {
   "cell_type": "code",
   "execution_count": 5,
   "metadata": {},
   "outputs": [
    {
     "data": {
      "text/plain": [
       "quartz_off_screen \n",
       "                2 \n"
      ]
     },
     "metadata": {},
     "output_type": "display_data"
    }
   ],
   "source": [
    "%%R \n",
    "library(grid)\n",
    "pdf(\"Figure_S4A.pdf\",height=8.5, width=11)\n",
    "vp1<-viewport(width=0.7,height=1,x=0.4,y=0.5)\n",
    "vp2<-viewport(width=0.25,height=1,x=0.85,y=0.505)\n",
    "print(q2,vp=vp2)\n",
    "print(q1,vp=vp1)\n",
    "dev.off() "
   ]
  },
  {
   "cell_type": "code",
   "execution_count": null,
   "metadata": {
    "collapsed": true
   },
   "outputs": [],
   "source": []
  }
 ],
 "metadata": {
  "kernelspec": {
   "display_name": "Python 2",
   "language": "python",
   "name": "python2"
  },
  "language_info": {
   "codemirror_mode": {
    "name": "ipython",
    "version": 2
   },
   "file_extension": ".py",
   "mimetype": "text/x-python",
   "name": "python",
   "nbconvert_exporter": "python",
   "pygments_lexer": "ipython2",
   "version": "2.7.14"
  }
 },
 "nbformat": 4,
 "nbformat_minor": 2
}
